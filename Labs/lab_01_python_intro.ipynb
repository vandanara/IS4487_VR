{
  "cells": [
    {
      "cell_type": "markdown",
      "metadata": {
        "id": "xJxWWBkrp-JF"
      },
      "source": [
        "# IS 4487 Lab 1\n",
        "\n",
        "## Outline\n",
        "\n",
        "- Create and format cells in a notebook\n",
        "- Create basic variables in Python\n",
        "\n",
        "<a href=\"https://colab.research.google.com/github/vandanara/UofUtah_IS4487/blob/main/Labs/lab_01_python_intro.ipynb\" target=\"_parent\"><img src=\"https://colab.research.google.com/assets/colab-badge.svg\" alt=\"Open In Colab\"/></a>\n",
        "\n",
        "If you have any questions about Colab, you can read more here:  https://research.google.com/colaboratory/faq.html"
      ]
    },
    {
      "cell_type": "markdown",
      "metadata": {
        "id": "UGFe36i7E4dt"
      },
      "source": [
        "## Your Turn: Work with the Python Notebook\n",
        "\n",
        "➡️ Assignment Tasks\n",
        "- Add a mathematical formula to add 15 and 22 in the cell below"
      ]
    },
    {
      "cell_type": "code",
      "execution_count": null,
      "metadata": {
        "id": "q9D9aAk_p-JN"
      },
      "outputs": [],
      "source": [
        "#Your code goes here"
      ]
    },
    {
      "cell_type": "markdown",
      "metadata": {
        "id": "8tHSZPxiE4du"
      },
      "source": [
        "➡️ Assignment Tasks\n",
        "Add a Markdown cell and write:\n",
        "\n",
        "- A heading.\n",
        "- Your major\n",
        "- Your favorite food"
      ]
    },
    {
      "cell_type": "markdown",
      "metadata": {
        "id": "iotikzzdE4du"
      },
      "source": [
        "➡️ Assignment Tasks\n",
        "- Create a variable called \"x\" with the value \"Hello World\".  Print the value of the variable"
      ]
    },
    {
      "cell_type": "code",
      "execution_count": null,
      "metadata": {
        "id": "FSfI75gpE4dv"
      },
      "outputs": [],
      "source": [
        "#Your code goes here"
      ]
    },
    {
      "cell_type": "markdown",
      "metadata": {
        "id": "T7rtSBPnE4dv"
      },
      "source": [
        "## Export Your Notebook to Submit in Canvas\n",
        "- In the top menu, go to File > Download, click \"Download .ipynb\"\n",
        "- In the left side menu, click the Folder icon, then click the \"Upload to Session Storage\" icon\n",
        "- Convert the file to HTML using the code below.  You will be asked to approve access to the files\n",
        "- Find the output file under Files in the left side menu\n",
        "- Download your HTML file as your completed assignment, to be uploaded to Canvas"
      ]
    },
    {
      "cell_type": "code",
      "execution_count": null,
      "metadata": {
        "id": "j7AiWUXUE4dw"
      },
      "outputs": [],
      "source": [
        "!jupyter nbconvert --to html \"lab_01_python_intro.ipynb\""
      ]
    },
    {
      "cell_type": "markdown",
      "metadata": {
        "id": "nE1SWSHUE4dw"
      },
      "source": [
        "## Submit your assignment\n",
        "\n",
        "- Make sure that all of your output is shown.  If you get the “unable to render code block” error, try refreshing the cache or downloading raw data to manually upload into Colab as a workaround.\n",
        "- Upload your HTML file to Canvas\n",
        "- Optionally, save your file in your own GitHub account for future use\n"
      ]
    }
  ],
  "metadata": {
    "colab": {
      "provenance": []
    },
    "kernelspec": {
      "display_name": "Python 3",
      "name": "python3"
    },
    "language_info": {
      "name": "python"
    }
  },
  "nbformat": 4,
  "nbformat_minor": 0
}